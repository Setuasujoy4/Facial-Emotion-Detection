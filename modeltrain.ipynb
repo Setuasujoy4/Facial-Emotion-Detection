{
 "cells": [
  {
   "cell_type": "code",
   "execution_count": 1,
   "id": "438b433b",
   "metadata": {},
   "outputs": [],
   "source": [
    "from keras.utils import to_categorical\n",
    "from keras_preprocessing.image import load_img\n",
    "from keras.models import Sequential\n",
    "from keras.layers import Dense, Conv2D, Dropout, Flatten, MaxPooling2D\n",
    "import os\n",
    "import pandas as pd\n",
    "import numpy as np\n",
    "import tensorflow as tf "
   ]
  },
  {
   "cell_type": "code",
   "execution_count": 3,
   "id": "ea47dfa3",
   "metadata": {},
   "outputs": [],
   "source": [
    "TRAIN_DIR = '.\\\\train'\n",
    "TEST_DIR = '.\\\\test'"
   ]
  },
  {
   "cell_type": "code",
   "execution_count": 4,
   "id": "4e5b9a42",
   "metadata": {},
   "outputs": [],
   "source": [
    "def createdataframe(dir):\n",
    "    image_paths = []\n",
    "    labels = []\n",
    "    for label in os.listdir(dir):\n",
    "        for imagename in os.listdir(os.path.join(dir,label)):\n",
    "            image_paths.append(os.path.join(dir,label,imagename))\n",
    "            labels.append(label)\n",
    "        print(label, \"completed\")\n",
    "    return image_paths,labels"
   ]
  },
  {
   "cell_type": "code",
   "execution_count": 5,
   "id": "ab5992a5",
   "metadata": {},
   "outputs": [
    {
     "name": "stdout",
     "output_type": "stream",
     "text": [
      "angry completed\n",
      "disgust completed\n",
      "fear completed\n",
      "happy completed\n",
      "neutral completed\n",
      "sad completed\n",
      "surprise completed\n"
     ]
    }
   ],
   "source": [
    "train = pd.DataFrame()\n",
    "train['image'], train['label'] = createdataframe(TRAIN_DIR)"
   ]
  },
  {
   "cell_type": "code",
   "execution_count": 6,
   "id": "e9bf8ad5",
   "metadata": {},
   "outputs": [
    {
     "name": "stdout",
     "output_type": "stream",
     "text": [
      "                                        image     label\n",
      "0         .\\train\\angry\\Training_10118481.png     angry\n",
      "1         .\\train\\angry\\Training_10120469.png     angry\n",
      "2         .\\train\\angry\\Training_10131352.png     angry\n",
      "3         .\\train\\angry\\Training_10161559.png     angry\n",
      "4          .\\train\\angry\\Training_1021836.png     angry\n",
      "...                                       ...       ...\n",
      "28657  .\\train\\surprise\\Training_99916297.png  surprise\n",
      "28658  .\\train\\surprise\\Training_99924420.png  surprise\n",
      "28659  .\\train\\surprise\\Training_99937001.png  surprise\n",
      "28660  .\\train\\surprise\\Training_99951755.png  surprise\n",
      "28661  .\\train\\surprise\\Training_99984132.png  surprise\n",
      "\n",
      "[28662 rows x 2 columns]\n"
     ]
    }
   ],
   "source": [
    "print(train)"
   ]
  },
  {
   "cell_type": "code",
   "execution_count": 7,
   "id": "b8e4c4c7",
   "metadata": {},
   "outputs": [
    {
     "name": "stdout",
     "output_type": "stream",
     "text": [
      "angry completed\n",
      "disgust completed\n",
      "fear completed\n",
      "happy completed\n",
      "neutral completed\n",
      "sad completed\n",
      "surprise completed\n"
     ]
    }
   ],
   "source": [
    "test = pd.DataFrame()\n",
    "test['image'], test['label'] = createdataframe(TEST_DIR)"
   ]
  },
  {
   "cell_type": "code",
   "execution_count": 8,
   "id": "ee9650ce",
   "metadata": {},
   "outputs": [
    {
     "name": "stdout",
     "output_type": "stream",
     "text": [
      "                                        image     label\n",
      "0       .\\test\\angry\\PrivateTest_10131363.png     angry\n",
      "1       .\\test\\angry\\PrivateTest_10304478.png     angry\n",
      "2        .\\test\\angry\\PrivateTest_1054527.png     angry\n",
      "3       .\\test\\angry\\PrivateTest_10590091.png     angry\n",
      "4        .\\test\\angry\\PrivateTest_1109992.png     angry\n",
      "...                                       ...       ...\n",
      "7166  .\\test\\surprise\\PublicTest_98089595.png  surprise\n",
      "7167  .\\test\\surprise\\PublicTest_98567249.png  surprise\n",
      "7168  .\\test\\surprise\\PublicTest_98972870.png  surprise\n",
      "7169  .\\test\\surprise\\PublicTest_99242645.png  surprise\n",
      "7170  .\\test\\surprise\\PublicTest_99446963.png  surprise\n",
      "\n",
      "[7171 rows x 2 columns]\n",
      "0         .\\test\\angry\\PrivateTest_10131363.png\n",
      "1         .\\test\\angry\\PrivateTest_10304478.png\n",
      "2          .\\test\\angry\\PrivateTest_1054527.png\n",
      "3         .\\test\\angry\\PrivateTest_10590091.png\n",
      "4          .\\test\\angry\\PrivateTest_1109992.png\n",
      "                         ...                   \n",
      "7166    .\\test\\surprise\\PublicTest_98089595.png\n",
      "7167    .\\test\\surprise\\PublicTest_98567249.png\n",
      "7168    .\\test\\surprise\\PublicTest_98972870.png\n",
      "7169    .\\test\\surprise\\PublicTest_99242645.png\n",
      "7170    .\\test\\surprise\\PublicTest_99446963.png\n",
      "Name: image, Length: 7171, dtype: object\n"
     ]
    }
   ],
   "source": [
    "print(test)\n",
    "print(test['image'])"
   ]
  },
  {
   "cell_type": "code",
   "execution_count": 9,
   "id": "06f53620",
   "metadata": {},
   "outputs": [],
   "source": [
    "from tqdm.notebook import tqdm"
   ]
  },
  {
   "cell_type": "code",
   "execution_count": 10,
   "id": "ab0d72d8",
   "metadata": {},
   "outputs": [],
   "source": [
    "def extract_features(images):\n",
    "    features = []\n",
    "    for image in tqdm(images):\n",
    "        img = load_img(image,grayscale =  True )\n",
    "        img = np.array(img)\n",
    "        features.append(img)\n",
    "    features = np.array(features)\n",
    "    features = features.reshape(len(features),48,48,1)\n",
    "    return features\n",
    "    "
   ]
  },
  {
   "cell_type": "code",
   "execution_count": 11,
   "id": "a5453074",
   "metadata": {},
   "outputs": [
    {
     "data": {
      "application/vnd.jupyter.widget-view+json": {
       "model_id": "03af197a6cb34cefb743299a91834a1a",
       "version_major": 2,
       "version_minor": 0
      },
      "text/plain": [
       "  0%|          | 0/28662 [00:00<?, ?it/s]"
      ]
     },
     "metadata": {},
     "output_type": "display_data"
    },
    {
     "name": "stderr",
     "output_type": "stream",
     "text": [
      "C:\\Users\\Ramkrishna Ghosh\\anaconda3\\Lib\\site-packages\\keras_preprocessing\\image\\utils.py:107: UserWarning: grayscale is deprecated. Please use color_mode = \"grayscale\"\n",
      "  warnings.warn('grayscale is deprecated. Please use '\n"
     ]
    }
   ],
   "source": [
    "train_features = extract_features(train['image']) \n",
    "# print(train['image'])"
   ]
  },
  {
   "cell_type": "markdown",
   "id": "45284083",
   "metadata": {},
   "source": [
    "#JPEG to PNG"
   ]
  },
  {
   "cell_type": "code",
   "execution_count": null,
   "id": "b4e0d4b7",
   "metadata": {},
   "outputs": [],
   "source": [
    "# from PIL import Image\n",
    "# import os\n",
    "\n",
    "# # Set the input and output folder paths\n",
    "# input_folder = \"C:\\\\Users\\\\Ramkrishna Ghosh\\\\Desktop\\\\New folder2\"  # Change this to the path of your folder containing JPG images\n",
    "# output_folder = \"C:\\\\Users\\\\Ramkrishna Ghosh\\\\Desktop\\\\New folder (3)\"  # Change this to the path where you want to save the PNG images\n",
    "\n",
    "# # Create the output folder if it doesn't exist\n",
    "# if not os.path.exists(output_folder):\n",
    "#     os.makedirs(output_folder)\n",
    "\n",
    "# # Get a list of all files in the input folder\n",
    "# file_list = os.listdir(input_folder)\n",
    "\n",
    "# # Loop through the files and convert JPG to PNG\n",
    "# for filename in file_list:\n",
    "#     if filename.endswith('.jpeg'):\n",
    "#         # Open the JPG image\n",
    "#         with Image.open(os.path.join(input_folder, filename)) as img:\n",
    "#             # Save the image as PNG in the output folder\n",
    "#             output_filename = os.path.splitext(filename)[0] + '.png'\n",
    "#             img.save(os.path.join(output_folder, output_filename), 'PNG')\n",
    "\n",
    "# print(\"Conversion completed.\")\n"
   ]
  },
  {
   "cell_type": "code",
   "execution_count": 12,
   "id": "c2fa644d",
   "metadata": {},
   "outputs": [
    {
     "data": {
      "application/vnd.jupyter.widget-view+json": {
       "model_id": "db887ce96425424db803641ed2a5a296",
       "version_major": 2,
       "version_minor": 0
      },
      "text/plain": [
       "  0%|          | 0/7171 [00:00<?, ?it/s]"
      ]
     },
     "metadata": {},
     "output_type": "display_data"
    }
   ],
   "source": [
    "test_features = extract_features(test['image'])"
   ]
  },
  {
   "cell_type": "code",
   "execution_count": 13,
   "id": "0b9e0db7",
   "metadata": {},
   "outputs": [],
   "source": [
    "x_train = train_features/255.0\n",
    "x_test = test_features/255.0"
   ]
  },
  {
   "cell_type": "code",
   "execution_count": 14,
   "id": "6d821c27",
   "metadata": {},
   "outputs": [],
   "source": [
    "from sklearn.preprocessing import LabelEncoder"
   ]
  },
  {
   "cell_type": "code",
   "execution_count": 15,
   "id": "e6168a44",
   "metadata": {},
   "outputs": [
    {
     "data": {
      "text/html": [
       "<style>#sk-container-id-1 {color: black;}#sk-container-id-1 pre{padding: 0;}#sk-container-id-1 div.sk-toggleable {background-color: white;}#sk-container-id-1 label.sk-toggleable__label {cursor: pointer;display: block;width: 100%;margin-bottom: 0;padding: 0.3em;box-sizing: border-box;text-align: center;}#sk-container-id-1 label.sk-toggleable__label-arrow:before {content: \"▸\";float: left;margin-right: 0.25em;color: #696969;}#sk-container-id-1 label.sk-toggleable__label-arrow:hover:before {color: black;}#sk-container-id-1 div.sk-estimator:hover label.sk-toggleable__label-arrow:before {color: black;}#sk-container-id-1 div.sk-toggleable__content {max-height: 0;max-width: 0;overflow: hidden;text-align: left;background-color: #f0f8ff;}#sk-container-id-1 div.sk-toggleable__content pre {margin: 0.2em;color: black;border-radius: 0.25em;background-color: #f0f8ff;}#sk-container-id-1 input.sk-toggleable__control:checked~div.sk-toggleable__content {max-height: 200px;max-width: 100%;overflow: auto;}#sk-container-id-1 input.sk-toggleable__control:checked~label.sk-toggleable__label-arrow:before {content: \"▾\";}#sk-container-id-1 div.sk-estimator input.sk-toggleable__control:checked~label.sk-toggleable__label {background-color: #d4ebff;}#sk-container-id-1 div.sk-label input.sk-toggleable__control:checked~label.sk-toggleable__label {background-color: #d4ebff;}#sk-container-id-1 input.sk-hidden--visually {border: 0;clip: rect(1px 1px 1px 1px);clip: rect(1px, 1px, 1px, 1px);height: 1px;margin: -1px;overflow: hidden;padding: 0;position: absolute;width: 1px;}#sk-container-id-1 div.sk-estimator {font-family: monospace;background-color: #f0f8ff;border: 1px dotted black;border-radius: 0.25em;box-sizing: border-box;margin-bottom: 0.5em;}#sk-container-id-1 div.sk-estimator:hover {background-color: #d4ebff;}#sk-container-id-1 div.sk-parallel-item::after {content: \"\";width: 100%;border-bottom: 1px solid gray;flex-grow: 1;}#sk-container-id-1 div.sk-label:hover label.sk-toggleable__label {background-color: #d4ebff;}#sk-container-id-1 div.sk-serial::before {content: \"\";position: absolute;border-left: 1px solid gray;box-sizing: border-box;top: 0;bottom: 0;left: 50%;z-index: 0;}#sk-container-id-1 div.sk-serial {display: flex;flex-direction: column;align-items: center;background-color: white;padding-right: 0.2em;padding-left: 0.2em;position: relative;}#sk-container-id-1 div.sk-item {position: relative;z-index: 1;}#sk-container-id-1 div.sk-parallel {display: flex;align-items: stretch;justify-content: center;background-color: white;position: relative;}#sk-container-id-1 div.sk-item::before, #sk-container-id-1 div.sk-parallel-item::before {content: \"\";position: absolute;border-left: 1px solid gray;box-sizing: border-box;top: 0;bottom: 0;left: 50%;z-index: -1;}#sk-container-id-1 div.sk-parallel-item {display: flex;flex-direction: column;z-index: 1;position: relative;background-color: white;}#sk-container-id-1 div.sk-parallel-item:first-child::after {align-self: flex-end;width: 50%;}#sk-container-id-1 div.sk-parallel-item:last-child::after {align-self: flex-start;width: 50%;}#sk-container-id-1 div.sk-parallel-item:only-child::after {width: 0;}#sk-container-id-1 div.sk-dashed-wrapped {border: 1px dashed gray;margin: 0 0.4em 0.5em 0.4em;box-sizing: border-box;padding-bottom: 0.4em;background-color: white;}#sk-container-id-1 div.sk-label label {font-family: monospace;font-weight: bold;display: inline-block;line-height: 1.2em;}#sk-container-id-1 div.sk-label-container {text-align: center;}#sk-container-id-1 div.sk-container {/* jupyter's `normalize.less` sets `[hidden] { display: none; }` but bootstrap.min.css set `[hidden] { display: none !important; }` so we also need the `!important` here to be able to override the default hidden behavior on the sphinx rendered scikit-learn.org. See: https://github.com/scikit-learn/scikit-learn/issues/21755 */display: inline-block !important;position: relative;}#sk-container-id-1 div.sk-text-repr-fallback {display: none;}</style><div id=\"sk-container-id-1\" class=\"sk-top-container\"><div class=\"sk-text-repr-fallback\"><pre>LabelEncoder()</pre><b>In a Jupyter environment, please rerun this cell to show the HTML representation or trust the notebook. <br />On GitHub, the HTML representation is unable to render, please try loading this page with nbviewer.org.</b></div><div class=\"sk-container\" hidden><div class=\"sk-item\"><div class=\"sk-estimator sk-toggleable\"><input class=\"sk-toggleable__control sk-hidden--visually\" id=\"sk-estimator-id-1\" type=\"checkbox\" checked><label for=\"sk-estimator-id-1\" class=\"sk-toggleable__label sk-toggleable__label-arrow\">LabelEncoder</label><div class=\"sk-toggleable__content\"><pre>LabelEncoder()</pre></div></div></div></div></div>"
      ],
      "text/plain": [
       "LabelEncoder()"
      ]
     },
     "execution_count": 15,
     "metadata": {},
     "output_type": "execute_result"
    }
   ],
   "source": [
    "le = LabelEncoder()\n",
    "le.fit(train['label'])"
   ]
  },
  {
   "cell_type": "code",
   "execution_count": 16,
   "id": "0f6e2e1d",
   "metadata": {},
   "outputs": [],
   "source": [
    "y_train = le.transform(train['label'])\n",
    "y_test = le.transform(test['label'])"
   ]
  },
  {
   "cell_type": "code",
   "execution_count": 17,
   "id": "46fad977",
   "metadata": {},
   "outputs": [],
   "source": [
    "y_train = to_categorical(y_train,num_classes = 7)\n",
    "y_test = to_categorical(y_test,num_classes = 7)"
   ]
  },
  {
   "cell_type": "code",
   "execution_count": 18,
   "id": "6751617a",
   "metadata": {},
   "outputs": [],
   "source": [
    "model = Sequential()\n",
    "# convolutional layers\n",
    "model.add(Conv2D(128, kernel_size=(3,3), activation='relu', input_shape=(48,48,1)))\n",
    "model.add(MaxPooling2D(pool_size=(2,2)))\n",
    "model.add(Dropout(0.4))\n",
    "\n",
    "model.add(Conv2D(256, kernel_size=(3,3), activation='relu'))\n",
    "model.add(MaxPooling2D(pool_size=(2,2)))\n",
    "model.add(Dropout(0.4))\n",
    "\n",
    "model.add(Conv2D(512, kernel_size=(3,3), activation='relu'))\n",
    "model.add(MaxPooling2D(pool_size=(2,2)))\n",
    "model.add(Dropout(0.4))\n",
    "\n",
    "model.add(Conv2D(512, kernel_size=(3,3), activation='relu'))\n",
    "model.add(MaxPooling2D(pool_size=(2,2)))\n",
    "model.add(Dropout(0.4))\n",
    "\n",
    "model.add(Flatten())\n",
    "# fully connected layers\n",
    "model.add(Dense(512, activation='relu'))\n",
    "model.add(Dropout(0.4))\n",
    "model.add(Dense(256, activation='relu'))\n",
    "model.add(Dropout(0.3))\n",
    "# output layer\n",
    "model.add(Dense(7, activation='softmax'))\n"
   ]
  },
  {
   "cell_type": "code",
   "execution_count": 19,
   "id": "2f8b20bc",
   "metadata": {},
   "outputs": [],
   "source": [
    "model.compile(optimizer = 'adam', loss = 'categorical_crossentropy', metrics = 'accuracy' )"
   ]
  },
  {
   "cell_type": "code",
   "execution_count": 20,
   "id": "7ae5ec90",
   "metadata": {},
   "outputs": [
    {
     "name": "stdout",
     "output_type": "stream",
     "text": [
      "Epoch 1/100\n",
      "224/224 [==============================] - 638s 3s/step - loss: 1.8235 - accuracy: 0.2476 - val_loss: 1.8183 - val_accuracy: 0.2472\n",
      "Epoch 2/100\n",
      "224/224 [==============================] - 657s 3s/step - loss: 1.8038 - accuracy: 0.2525 - val_loss: 1.7888 - val_accuracy: 0.2514\n",
      "Epoch 3/100\n",
      "224/224 [==============================] - 726s 3s/step - loss: 1.7302 - accuracy: 0.2890 - val_loss: 1.6504 - val_accuracy: 0.3288\n",
      "Epoch 4/100\n",
      "224/224 [==============================] - 525s 2s/step - loss: 1.6239 - accuracy: 0.3536 - val_loss: 1.4644 - val_accuracy: 0.4281\n",
      "Epoch 5/100\n",
      "224/224 [==============================] - 588s 3s/step - loss: 1.5116 - accuracy: 0.4061 - val_loss: 1.3890 - val_accuracy: 0.4606\n",
      "Epoch 6/100\n",
      "224/224 [==============================] - 600s 3s/step - loss: 1.4530 - accuracy: 0.4399 - val_loss: 1.3415 - val_accuracy: 0.4860\n",
      "Epoch 7/100\n",
      "224/224 [==============================] - 601s 3s/step - loss: 1.4091 - accuracy: 0.4569 - val_loss: 1.2918 - val_accuracy: 0.4995\n",
      "Epoch 8/100\n",
      "224/224 [==============================] - 606s 3s/step - loss: 1.3788 - accuracy: 0.4678 - val_loss: 1.2764 - val_accuracy: 0.5045\n",
      "Epoch 9/100\n",
      "224/224 [==============================] - 609s 3s/step - loss: 1.3414 - accuracy: 0.4840 - val_loss: 1.2520 - val_accuracy: 0.5114\n",
      "Epoch 10/100\n",
      "224/224 [==============================] - 28011s 126s/step - loss: 1.3189 - accuracy: 0.4919 - val_loss: 1.2231 - val_accuracy: 0.5261\n",
      "Epoch 11/100\n",
      "224/224 [==============================] - 39352s 176s/step - loss: 1.3052 - accuracy: 0.4985 - val_loss: 1.2194 - val_accuracy: 0.5307\n",
      "Epoch 12/100\n",
      "224/224 [==============================] - 579s 3s/step - loss: 1.2776 - accuracy: 0.5128 - val_loss: 1.1932 - val_accuracy: 0.5395\n",
      "Epoch 13/100\n",
      "224/224 [==============================] - 619s 3s/step - loss: 1.2644 - accuracy: 0.5201 - val_loss: 1.1696 - val_accuracy: 0.5521\n",
      "Epoch 14/100\n",
      "224/224 [==============================] - 1028s 5s/step - loss: 1.2511 - accuracy: 0.5222 - val_loss: 1.1643 - val_accuracy: 0.5497\n",
      "Epoch 15/100\n",
      "224/224 [==============================] - 597s 3s/step - loss: 1.2351 - accuracy: 0.5308 - val_loss: 1.1485 - val_accuracy: 0.5600\n",
      "Epoch 16/100\n",
      "224/224 [==============================] - 509s 2s/step - loss: 1.2233 - accuracy: 0.5323 - val_loss: 1.1313 - val_accuracy: 0.5603\n",
      "Epoch 17/100\n",
      "224/224 [==============================] - 580s 3s/step - loss: 1.2158 - accuracy: 0.5374 - val_loss: 1.1417 - val_accuracy: 0.5595\n",
      "Epoch 18/100\n",
      "224/224 [==============================] - 720s 3s/step - loss: 1.1984 - accuracy: 0.5438 - val_loss: 1.1446 - val_accuracy: 0.5589\n",
      "Epoch 19/100\n",
      "224/224 [==============================] - 658s 3s/step - loss: 1.1933 - accuracy: 0.5453 - val_loss: 1.1352 - val_accuracy: 0.5602\n",
      "Epoch 20/100\n",
      "224/224 [==============================] - 635s 3s/step - loss: 1.1772 - accuracy: 0.5558 - val_loss: 1.1170 - val_accuracy: 0.5704\n",
      "Epoch 21/100\n",
      "224/224 [==============================] - 643s 3s/step - loss: 1.1627 - accuracy: 0.5633 - val_loss: 1.1121 - val_accuracy: 0.5740\n",
      "Epoch 22/100\n",
      "224/224 [==============================] - 688s 3s/step - loss: 1.1613 - accuracy: 0.5638 - val_loss: 1.1161 - val_accuracy: 0.5722\n",
      "Epoch 23/100\n",
      "224/224 [==============================] - 686s 3s/step - loss: 1.1552 - accuracy: 0.5622 - val_loss: 1.0870 - val_accuracy: 0.5856\n",
      "Epoch 24/100\n",
      "224/224 [==============================] - 3831s 17s/step - loss: 1.1417 - accuracy: 0.5683 - val_loss: 1.0986 - val_accuracy: 0.5805\n",
      "Epoch 25/100\n",
      "224/224 [==============================] - 671s 3s/step - loss: 1.1323 - accuracy: 0.5703 - val_loss: 1.0874 - val_accuracy: 0.5819\n",
      "Epoch 26/100\n",
      "224/224 [==============================] - 706s 3s/step - loss: 1.1263 - accuracy: 0.5747 - val_loss: 1.0917 - val_accuracy: 0.5828\n",
      "Epoch 27/100\n",
      "224/224 [==============================] - 708s 3s/step - loss: 1.1220 - accuracy: 0.5759 - val_loss: 1.0922 - val_accuracy: 0.5783\n",
      "Epoch 28/100\n",
      "224/224 [==============================] - 728s 3s/step - loss: 1.1084 - accuracy: 0.5807 - val_loss: 1.0797 - val_accuracy: 0.5816\n",
      "Epoch 29/100\n",
      "224/224 [==============================] - 747s 3s/step - loss: 1.1052 - accuracy: 0.5835 - val_loss: 1.0742 - val_accuracy: 0.5911\n",
      "Epoch 30/100\n",
      "224/224 [==============================] - 741s 3s/step - loss: 1.0923 - accuracy: 0.5860 - val_loss: 1.0727 - val_accuracy: 0.5890\n",
      "Epoch 31/100\n",
      "224/224 [==============================] - 932s 4s/step - loss: 1.0936 - accuracy: 0.5901 - val_loss: 1.0642 - val_accuracy: 0.5900\n",
      "Epoch 32/100\n",
      "224/224 [==============================] - 998s 4s/step - loss: 1.0839 - accuracy: 0.5915 - val_loss: 1.0556 - val_accuracy: 0.6006\n",
      "Epoch 33/100\n",
      "224/224 [==============================] - 1152s 5s/step - loss: 1.0743 - accuracy: 0.5935 - val_loss: 1.0548 - val_accuracy: 0.5992\n",
      "Epoch 34/100\n",
      "224/224 [==============================] - 8315s 37s/step - loss: 1.0662 - accuracy: 0.5971 - val_loss: 1.0506 - val_accuracy: 0.5946\n",
      "Epoch 35/100\n",
      "224/224 [==============================] - 61101s 274s/step - loss: 1.0664 - accuracy: 0.5970 - val_loss: 1.0649 - val_accuracy: 0.5963\n",
      "Epoch 36/100\n",
      "224/224 [==============================] - 704s 3s/step - loss: 1.0581 - accuracy: 0.6018 - val_loss: 1.0590 - val_accuracy: 0.5999\n",
      "Epoch 37/100\n",
      "224/224 [==============================] - 737s 3s/step - loss: 1.0475 - accuracy: 0.6084 - val_loss: 1.0858 - val_accuracy: 0.5833\n",
      "Epoch 38/100\n",
      "224/224 [==============================] - 841s 4s/step - loss: 1.0432 - accuracy: 0.6067 - val_loss: 1.0487 - val_accuracy: 0.6038\n",
      "Epoch 39/100\n",
      "224/224 [==============================] - 719s 3s/step - loss: 1.0387 - accuracy: 0.6076 - val_loss: 1.0360 - val_accuracy: 0.6080\n",
      "Epoch 40/100\n",
      "224/224 [==============================] - 691s 3s/step - loss: 1.0347 - accuracy: 0.6101 - val_loss: 1.0398 - val_accuracy: 0.6088\n",
      "Epoch 41/100\n",
      "224/224 [==============================] - 865s 4s/step - loss: 1.0239 - accuracy: 0.6150 - val_loss: 1.0562 - val_accuracy: 0.5992\n",
      "Epoch 42/100\n",
      "224/224 [==============================] - 870s 4s/step - loss: 1.0300 - accuracy: 0.6116 - val_loss: 1.0491 - val_accuracy: 0.6070\n",
      "Epoch 43/100\n",
      "224/224 [==============================] - 798s 4s/step - loss: 1.0162 - accuracy: 0.6214 - val_loss: 1.0361 - val_accuracy: 0.6062\n",
      "Epoch 44/100\n",
      "224/224 [==============================] - 889s 4s/step - loss: 1.0141 - accuracy: 0.6204 - val_loss: 1.0497 - val_accuracy: 0.6065\n",
      "Epoch 45/100\n",
      "224/224 [==============================] - 859s 4s/step - loss: 1.0072 - accuracy: 0.6222 - val_loss: 1.0447 - val_accuracy: 0.6098\n",
      "Epoch 46/100\n",
      "224/224 [==============================] - 759s 3s/step - loss: 1.0019 - accuracy: 0.6241 - val_loss: 1.0334 - val_accuracy: 0.6161\n",
      "Epoch 47/100\n",
      "224/224 [==============================] - 684s 3s/step - loss: 0.9846 - accuracy: 0.6305 - val_loss: 1.0452 - val_accuracy: 0.6047\n",
      "Epoch 48/100\n",
      "224/224 [==============================] - 19204s 86s/step - loss: 0.9887 - accuracy: 0.6263 - val_loss: 1.0262 - val_accuracy: 0.6134\n",
      "Epoch 49/100\n",
      "224/224 [==============================] - 675s 3s/step - loss: 0.9805 - accuracy: 0.6329 - val_loss: 1.0291 - val_accuracy: 0.6108\n",
      "Epoch 50/100\n",
      "224/224 [==============================] - 696s 3s/step - loss: 0.9724 - accuracy: 0.6349 - val_loss: 1.0251 - val_accuracy: 0.6091\n",
      "Epoch 51/100\n",
      "224/224 [==============================] - 728s 3s/step - loss: 0.9764 - accuracy: 0.6347 - val_loss: 1.0207 - val_accuracy: 0.6173\n",
      "Epoch 52/100\n",
      "224/224 [==============================] - 644s 3s/step - loss: 0.9757 - accuracy: 0.6329 - val_loss: 1.0294 - val_accuracy: 0.6158\n",
      "Epoch 53/100\n",
      "224/224 [==============================] - 668s 3s/step - loss: 0.9640 - accuracy: 0.6381 - val_loss: 1.0410 - val_accuracy: 0.6048\n",
      "Epoch 54/100\n",
      "224/224 [==============================] - 770s 3s/step - loss: 0.9598 - accuracy: 0.6443 - val_loss: 1.0237 - val_accuracy: 0.6144\n",
      "Epoch 55/100\n",
      "224/224 [==============================] - 727s 3s/step - loss: 0.9500 - accuracy: 0.6423 - val_loss: 1.0188 - val_accuracy: 0.6172\n",
      "Epoch 56/100\n",
      "224/224 [==============================] - 627s 3s/step - loss: 0.9434 - accuracy: 0.6475 - val_loss: 1.0287 - val_accuracy: 0.6197\n",
      "Epoch 57/100\n"
     ]
    },
    {
     "name": "stdout",
     "output_type": "stream",
     "text": [
      "224/224 [==============================] - 635s 3s/step - loss: 0.9422 - accuracy: 0.6422 - val_loss: 1.0226 - val_accuracy: 0.6199\n",
      "Epoch 58/100\n",
      "224/224 [==============================] - 877s 4s/step - loss: 0.9319 - accuracy: 0.6500 - val_loss: 1.0216 - val_accuracy: 0.6130\n",
      "Epoch 59/100\n",
      "224/224 [==============================] - 642s 3s/step - loss: 0.9365 - accuracy: 0.6479 - val_loss: 1.0278 - val_accuracy: 0.6143\n",
      "Epoch 60/100\n",
      "224/224 [==============================] - 923s 4s/step - loss: 0.9317 - accuracy: 0.6515 - val_loss: 1.0190 - val_accuracy: 0.6201\n",
      "Epoch 61/100\n",
      "224/224 [==============================] - 997s 4s/step - loss: 0.9254 - accuracy: 0.6527 - val_loss: 1.0190 - val_accuracy: 0.6187\n",
      "Epoch 62/100\n",
      "224/224 [==============================] - 761s 3s/step - loss: 0.9187 - accuracy: 0.6568 - val_loss: 1.0278 - val_accuracy: 0.6157\n",
      "Epoch 63/100\n",
      "224/224 [==============================] - 676s 3s/step - loss: 0.9108 - accuracy: 0.6589 - val_loss: 1.0150 - val_accuracy: 0.6263\n",
      "Epoch 64/100\n",
      "224/224 [==============================] - 674s 3s/step - loss: 0.9131 - accuracy: 0.6590 - val_loss: 1.0150 - val_accuracy: 0.6201\n",
      "Epoch 65/100\n",
      "224/224 [==============================] - 566s 3s/step - loss: 0.8969 - accuracy: 0.6650 - val_loss: 1.0127 - val_accuracy: 0.6201\n",
      "Epoch 66/100\n",
      "224/224 [==============================] - 639s 3s/step - loss: 0.8952 - accuracy: 0.6636 - val_loss: 1.0114 - val_accuracy: 0.6267\n",
      "Epoch 67/100\n",
      "224/224 [==============================] - 676s 3s/step - loss: 0.8939 - accuracy: 0.6670 - val_loss: 1.0170 - val_accuracy: 0.6222\n",
      "Epoch 68/100\n",
      "224/224 [==============================] - 823s 4s/step - loss: 0.8876 - accuracy: 0.6687 - val_loss: 1.0202 - val_accuracy: 0.6235\n",
      "Epoch 69/100\n",
      "224/224 [==============================] - 825s 4s/step - loss: 0.8826 - accuracy: 0.6704 - val_loss: 1.0147 - val_accuracy: 0.6228\n",
      "Epoch 70/100\n",
      "224/224 [==============================] - 677s 3s/step - loss: 0.8799 - accuracy: 0.6726 - val_loss: 1.0175 - val_accuracy: 0.6274\n",
      "Epoch 71/100\n",
      "224/224 [==============================] - 1103s 5s/step - loss: 0.8866 - accuracy: 0.6714 - val_loss: 1.0253 - val_accuracy: 0.6218\n",
      "Epoch 72/100\n",
      "224/224 [==============================] - 1101s 5s/step - loss: 0.8745 - accuracy: 0.6771 - val_loss: 1.0191 - val_accuracy: 0.6285\n",
      "Epoch 73/100\n",
      "224/224 [==============================] - 1121s 5s/step - loss: 0.8684 - accuracy: 0.6800 - val_loss: 1.0337 - val_accuracy: 0.6267\n",
      "Epoch 74/100\n",
      "224/224 [==============================] - 966s 4s/step - loss: 0.8693 - accuracy: 0.6763 - val_loss: 1.0099 - val_accuracy: 0.6254\n",
      "Epoch 75/100\n",
      "224/224 [==============================] - 31402s 141s/step - loss: 0.8589 - accuracy: 0.6804 - val_loss: 1.0052 - val_accuracy: 0.6279\n",
      "Epoch 76/100\n",
      "224/224 [==============================] - 660s 3s/step - loss: 0.8484 - accuracy: 0.6843 - val_loss: 1.0172 - val_accuracy: 0.6232\n",
      "Epoch 77/100\n",
      "224/224 [==============================] - 535s 2s/step - loss: 0.8542 - accuracy: 0.6854 - val_loss: 1.0197 - val_accuracy: 0.6192\n",
      "Epoch 78/100\n",
      "224/224 [==============================] - 634s 3s/step - loss: 0.8544 - accuracy: 0.6824 - val_loss: 1.0163 - val_accuracy: 0.6309\n",
      "Epoch 79/100\n",
      "224/224 [==============================] - 635s 3s/step - loss: 0.8371 - accuracy: 0.6893 - val_loss: 1.0133 - val_accuracy: 0.6261\n",
      "Epoch 80/100\n",
      "224/224 [==============================] - 54686s 245s/step - loss: 0.8419 - accuracy: 0.6873 - val_loss: 1.0200 - val_accuracy: 0.6221\n",
      "Epoch 81/100\n",
      "224/224 [==============================] - 34057s 153s/step - loss: 0.8371 - accuracy: 0.6932 - val_loss: 1.0238 - val_accuracy: 0.6235\n",
      "Epoch 82/100\n",
      "224/224 [==============================] - 665s 3s/step - loss: 0.8279 - accuracy: 0.6951 - val_loss: 1.0206 - val_accuracy: 0.6261\n",
      "Epoch 83/100\n",
      "224/224 [==============================] - 623s 3s/step - loss: 0.8364 - accuracy: 0.6924 - val_loss: 1.0191 - val_accuracy: 0.6270\n",
      "Epoch 84/100\n",
      "224/224 [==============================] - 683s 3s/step - loss: 0.8230 - accuracy: 0.6956 - val_loss: 1.0112 - val_accuracy: 0.6313\n",
      "Epoch 85/100\n",
      "224/224 [==============================] - 871s 4s/step - loss: 0.8170 - accuracy: 0.7001 - val_loss: 1.0278 - val_accuracy: 0.6271\n",
      "Epoch 86/100\n",
      "224/224 [==============================] - 646s 3s/step - loss: 0.8112 - accuracy: 0.7020 - val_loss: 1.0250 - val_accuracy: 0.6261\n",
      "Epoch 87/100\n",
      "224/224 [==============================] - 759s 3s/step - loss: 0.8137 - accuracy: 0.7002 - val_loss: 1.0160 - val_accuracy: 0.6278\n",
      "Epoch 88/100\n",
      "224/224 [==============================] - 988s 4s/step - loss: 0.8087 - accuracy: 0.7040 - val_loss: 1.0201 - val_accuracy: 0.6245\n",
      "Epoch 89/100\n",
      "224/224 [==============================] - 771s 3s/step - loss: 0.8049 - accuracy: 0.7061 - val_loss: 1.0145 - val_accuracy: 0.6313\n",
      "Epoch 90/100\n",
      "224/224 [==============================] - 653s 3s/step - loss: 0.8017 - accuracy: 0.7088 - val_loss: 1.0165 - val_accuracy: 0.6292\n",
      "Epoch 91/100\n",
      "224/224 [==============================] - 703s 3s/step - loss: 0.7986 - accuracy: 0.7043 - val_loss: 1.0217 - val_accuracy: 0.6307\n",
      "Epoch 92/100\n",
      "224/224 [==============================] - 746s 3s/step - loss: 0.7963 - accuracy: 0.7078 - val_loss: 1.0209 - val_accuracy: 0.6334\n",
      "Epoch 93/100\n",
      "224/224 [==============================] - 702s 3s/step - loss: 0.7806 - accuracy: 0.7120 - val_loss: 1.0271 - val_accuracy: 0.6310\n",
      "Epoch 94/100\n",
      "224/224 [==============================] - 672s 3s/step - loss: 0.7941 - accuracy: 0.7097 - val_loss: 1.0173 - val_accuracy: 0.6272\n",
      "Epoch 95/100\n",
      "224/224 [==============================] - 676s 3s/step - loss: 0.7795 - accuracy: 0.7138 - val_loss: 1.0174 - val_accuracy: 0.6334\n",
      "Epoch 96/100\n",
      "224/224 [==============================] - 1555s 7s/step - loss: 0.7797 - accuracy: 0.7191 - val_loss: 1.0278 - val_accuracy: 0.6284\n",
      "Epoch 97/100\n",
      "224/224 [==============================] - 814s 4s/step - loss: 0.7767 - accuracy: 0.7184 - val_loss: 1.0199 - val_accuracy: 0.6319\n",
      "Epoch 98/100\n",
      "224/224 [==============================] - 1055s 5s/step - loss: 0.7669 - accuracy: 0.7182 - val_loss: 1.0229 - val_accuracy: 0.6373\n",
      "Epoch 99/100\n",
      "224/224 [==============================] - 1142s 5s/step - loss: 0.7584 - accuracy: 0.7215 - val_loss: 1.0295 - val_accuracy: 0.6267\n",
      "Epoch 100/100\n",
      "224/224 [==============================] - 1130s 5s/step - loss: 0.7614 - accuracy: 0.7213 - val_loss: 1.0416 - val_accuracy: 0.6233\n"
     ]
    },
    {
     "data": {
      "text/plain": [
       "<keras.callbacks.History at 0x2c76d579e50>"
      ]
     },
     "execution_count": 20,
     "metadata": {},
     "output_type": "execute_result"
    }
   ],
   "source": [
    "model.fit(x= x_train,y = y_train, batch_size = 128, epochs = 100, validation_data = (x_test,y_test)) "
   ]
  },
  {
   "cell_type": "code",
   "execution_count": 21,
   "id": "b58ae45c",
   "metadata": {},
   "outputs": [],
   "source": [
    "model_json = model.to_json()\n",
    "with open(\".\\\\emotiondetector.json\",'w') as json_file:\n",
    "    json_file.write(model_json)\n",
    "model.save(\".\\\\emotiondetector.h5\")"
   ]
  },
  {
   "cell_type": "code",
   "execution_count": 22,
   "id": "a83317aa",
   "metadata": {},
   "outputs": [],
   "source": [
    "from keras.models import model_from_json"
   ]
  },
  {
   "cell_type": "code",
   "execution_count": 23,
   "id": "d7e9ce27",
   "metadata": {},
   "outputs": [],
   "source": [
    "json_file = open(\".\\\\emotiondetector.json\", \"r\")\n",
    "model_json = json_file.read()\n",
    "json_file.close()\n",
    "model = model_from_json(model_json)\n",
    "model.load_weights(\".\\\\emotiondetector.h5\")"
   ]
  },
  {
   "cell_type": "code",
   "execution_count": 24,
   "id": "c63b777f",
   "metadata": {},
   "outputs": [],
   "source": [
    "label = ['angry','disgust','fear','happy','neutral','sad','surprise']"
   ]
  },
  {
   "cell_type": "code",
   "execution_count": 25,
   "id": "ba84ff01",
   "metadata": {},
   "outputs": [],
   "source": [
    "def ef(image):\n",
    "    img = load_img(image,grayscale =  True )\n",
    "    feature = np.array(img)\n",
    "    feature = feature.reshape(1,48,48,1)\n",
    "    return feature/255.0\n",
    "    "
   ]
  },
  {
   "cell_type": "code",
   "execution_count": 26,
   "id": "4a196575",
   "metadata": {},
   "outputs": [
    {
     "name": "stdout",
     "output_type": "stream",
     "text": [
      "original image is of sad\n"
     ]
    },
    {
     "name": "stderr",
     "output_type": "stream",
     "text": [
      "C:\\Users\\Ramkrishna Ghosh\\anaconda3\\Lib\\site-packages\\keras_preprocessing\\image\\utils.py:107: UserWarning: grayscale is deprecated. Please use color_mode = \"grayscale\"\n",
      "  warnings.warn('grayscale is deprecated. Please use '\n"
     ]
    },
    {
     "name": "stdout",
     "output_type": "stream",
     "text": [
      "1/1 [==============================] - 1s 553ms/step\n",
      "model prediction is  surprise\n"
     ]
    }
   ],
   "source": [
    "image =\".\\\\test\\\\surprise\\\\PrivateTest_9171383.png\"\n",
    "print(\"original image is of sad\")\n",
    "img = ef(image)\n",
    "pred = model.predict(img)\n",
    "pred_label = label[pred.argmax()]\n",
    "print(\"model prediction is \",pred_label)"
   ]
  }
 ],
 "metadata": {
  "kernelspec": {
   "display_name": "Python 3 (ipykernel)",
   "language": "python",
   "name": "python3"
  },
  "language_info": {
   "codemirror_mode": {
    "name": "ipython",
    "version": 3
   },
   "file_extension": ".py",
   "mimetype": "text/x-python",
   "name": "python",
   "nbconvert_exporter": "python",
   "pygments_lexer": "ipython3",
   "version": "3.11.5"
  }
 },
 "nbformat": 4,
 "nbformat_minor": 5
}
